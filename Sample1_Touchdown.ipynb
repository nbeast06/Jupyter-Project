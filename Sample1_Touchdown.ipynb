{
 "cells": [
  {
   "cell_type": "markdown",
   "metadata": {},
   "source": [
    "Data Visualization of Touchdown using Jupyter Notebook"
   ]
  },
  {
   "cell_type": "code",
   "execution_count": 7,
   "metadata": {
    "collapsed": false,
    "scrolled": true
   },
   "outputs": [
    {
     "name": "stdout",
     "output_type": "stream",
     "text": [
      "          Signal\n",
      "Power           \n",
      "45.0    9.110822\n",
      "50.0    8.741888\n",
      "55.0    8.877065\n",
      "60.0    8.411656\n",
      "65.0    8.676461\n",
      "70.0    8.483948\n",
      "75.0    8.679382\n",
      "80.0    8.534971\n",
      "85.0    8.078410\n",
      "90.0    8.105026\n",
      "95.0    8.198640\n",
      "100.0   7.968952\n",
      "100.2   8.157253\n",
      "100.4   7.709810\n",
      "100.6   7.962258\n",
      "100.8   7.690434\n",
      "101.0   7.934461\n",
      "101.2   7.663285\n",
      "101.4   7.928093\n",
      "101.6   7.763191\n",
      "101.8   7.922550\n",
      "102.0   7.694311\n",
      "102.2   7.892621\n",
      "102.4   7.717716\n",
      "102.6   7.730179\n",
      "102.8   7.824660\n",
      "103.0   7.728627\n",
      "103.2   7.806721\n",
      "103.4   7.787199\n",
      "103.6   7.931886\n",
      "...          ...\n",
      "112.2   8.043108\n",
      "112.4   8.107977\n",
      "112.6   8.053041\n",
      "112.8   8.255657\n",
      "113.0   8.149979\n",
      "113.2   8.460440\n",
      "113.4   8.222880\n",
      "113.6   8.508513\n",
      "113.8   8.395979\n",
      "114.0   8.825417\n",
      "114.2   8.551622\n",
      "114.4   9.178513\n",
      "114.6   8.844881\n",
      "114.8   9.400406\n",
      "115.0   9.048639\n",
      "115.2   9.984636\n",
      "115.4   9.557105\n",
      "115.6  10.641605\n",
      "115.8  10.252301\n",
      "116.0  10.956613\n",
      "116.2  10.553606\n",
      "116.4  12.141596\n",
      "116.6  12.015750\n",
      "116.8  13.569648\n",
      "117.0  12.859085\n",
      "117.2  13.874659\n",
      "117.4  13.843609\n",
      "117.6  15.599864\n",
      "117.8  16.396854\n",
      "118.0  18.054402\n",
      "\n",
      "[102 rows x 1 columns]\n"
     ]
    }
   ],
   "source": [
    "import pandas as pd\n",
    "import matplotlib.pyplot as plt\n",
    "df = pd.read_csv('C:\\CSV\\data.csv')\n",
    "df = pd.DataFrame(df)\n",
    "df.set_index('Power', inplace=True, drop=True)\n",
    "print(df)"
   ]
  },
  {
   "cell_type": "markdown",
   "metadata": {},
   "source": [
    "After viewing the data from CSV. Matplotlib is used to generate a line graph."
   ]
  },
  {
   "cell_type": "code",
   "execution_count": 6,
   "metadata": {
    "collapsed": false
   },
   "outputs": [
    {
     "data": {
      "text/plain": [
       "<matplotlib.figure.Figure at 0x1a0fb0c2f98>"
      ]
     },
     "metadata": {},
     "output_type": "display_data"
    },
    {
     "data": {
      "text/plain": [
       "<matplotlib.figure.Figure at 0x1a0fb6149e8>"
      ]
     },
     "metadata": {},
     "output_type": "display_data"
    },
    {
     "data": {
      "image/png": "[encoded data removed]",
      "text/plain": [
       "<matplotlib.figure.Figure at 0x1a0fb757588>"
      ]
     },
     "metadata": {},
     "output_type": "display_data"
    }
   ],
   "source": [
    "plt.figure()\n",
    "df.plot()\n",
    "plt.show()"
   ]
  },
  {
   "cell_type": "code",
   "execution_count": null,
   "metadata": {
    "collapsed": true
   },
   "outputs": [],
   "source": []
  }
 ],
 "metadata": {
  "kernelspec": {
   "display_name": "Python 3",
   "language": "python",
   "name": "python3"
  },
  "language_info": {
   "codemirror_mode": {
    "name": "ipython",
    "version": 3
   },
   "file_extension": ".py",
   "mimetype": "text/x-python",
   "name": "python",
   "nbconvert_exporter": "python",
   "pygments_lexer": "ipython3",
   "version": "3.6.0"
  }
 },
 "nbformat": 4,
 "nbformat_minor": 2
}
